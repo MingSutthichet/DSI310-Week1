{
 "cells": [
  {
   "cell_type": "markdown",
   "id": "fcef6729-5890-4ea9-b91c-d34df4326986",
   "metadata": {},
   "source": [
    "# 01_scrap\n",
    "- scrapping data from newsdata.io and upload to DataPlatform"
   ]
  },
  {
   "cell_type": "markdown",
   "id": "94a72a85-cebd-4448-b86c-92fb6c23f028",
   "metadata": {},
   "source": [
    "## Getting data from newsdata.io"
   ]
  },
  {
   "cell_type": "code",
   "execution_count": 2,
   "id": "dc4b604f-ec03-419e-8f89-ad07b8469ffd",
   "metadata": {},
   "outputs": [],
   "source": [
    "import requests\n",
    "from tqdm.auto import tqdm\n",
    "import json"
   ]
  },
  {
   "cell_type": "code",
   "execution_count": 3,
   "id": "0b6120f6-12dd-42b9-9ea1-bec4fd3dcf20",
   "metadata": {},
   "outputs": [],
   "source": [
    "import requests\n",
    "\n",
    "url_get = requests.get('https://pusatdata.kontan.co.id/makroekonomi/inflasi')"
   ]
  },
  {
   "cell_type": "code",
   "execution_count": 4,
   "id": "78e2af09-4c61-4d2b-9096-9eaeba1e9ed3",
   "metadata": {},
   "outputs": [
    {
     "data": {
      "text/plain": [
       "b'!DOCTYPE html PUBLIC \"-//W3C//DTD XHTML 1.0 Transitional//EN\" \"http://www.w3.org/TR/xhtml1/DTD/xhtml1-transitional.dtd\">\\n<html xmlns=\"http://www.w3.org/1999/xhtml\">\\n<head>\\n\\t<meta http-equiv=\"Content-Type\" content=\"text/html; charset=utf-8\" />\\n\\t<meta name=\"viewport\" content=\"width=device-width, initial-scale=1.0\">\\n    <link rel=\"shortcut icon\" href=\"//assets.kontan.co.id/favicon.ico\"/>\\n\\t<link rel=\"stylesheet\" href=\"//assets.kontan.co.id/debar/pusatdata/css/font-awesome/css/font-awesome.min.css\">'"
      ]
     },
     "execution_count": 4,
     "metadata": {},
     "output_type": "execute_result"
    }
   ],
   "source": [
    "url_get.content[1:500]"
   ]
  },
  {
   "cell_type": "code",
   "execution_count": 5,
   "id": "402fac17-d0ce-45e8-b010-ba8167d7dd79",
   "metadata": {},
   "outputs": [
    {
     "name": "stdout",
     "output_type": "stream",
     "text": [
      "<class 'bs4.BeautifulSoup'>\n"
     ]
    }
   ],
   "source": [
    "from bs4 import BeautifulSoup \n",
    "\n",
    "soup = BeautifulSoup(url_get.content,\"html.parser\")\n",
    "print(type(soup))"
   ]
  },
  {
   "cell_type": "code",
   "execution_count": 6,
   "id": "9ca2b0d6-9117-4509-850c-e930dd49b9f4",
   "metadata": {},
   "outputs": [
    {
     "name": "stdout",
     "output_type": "stream",
     "text": [
      "<!DOCTYPE html PUBLIC \"-//W3C//DTD XHTML 1.0 Transitional//EN\" \"http://www.w3.org/TR/xhtml1/DTD/xhtml1-transitional.dtd\">\n",
      "<html xmlns=\"http://www.w3.org/1999/xhtml\">\n",
      " <head>\n",
      "  <meta content=\"text/html; charset=utf-8\" http-equiv=\"Content-Type\"/>\n",
      "  <meta content=\"width=device-width, initial-scale=1.0\" name=\"viewport\"/>\n",
      "  <link href=\"//assets.kontan.co.id/favicon.ico\" rel=\"shortcut icon\"/>\n",
      "  <link href=\"//assets.kontan.co.id/debar/pusatdata/css/font-awesome/css/font-awesome.min.css\" rel=\"stylesheet\n"
     ]
    }
   ],
   "source": [
    "print(soup.prettify()[:500])"
   ]
  },
  {
   "cell_type": "code",
   "execution_count": 7,
   "id": "a362c512-67f9-4fb0-8f1f-3086df444d83",
   "metadata": {},
   "outputs": [
    {
     "name": "stdout",
     "output_type": "stream",
     "text": [
      "div class=\"baris-scroll\">\n",
      " <div class=\"tabel-body\">\n",
      "  <div class=\"kol-konten3-1\">\n",
      "   30/09/2022\n",
      "  </div>\n",
      "  <div class=\"kol-konten3-2\">\n",
      "   <div class=\"w-30-px txtright center-max\">\n",
      "    1,17\n",
      "   </div>\n",
      "  </div>\n",
      "  <div class=\"kol-konten3-3\">\n",
      "   <div class=\"w-30-px txtright center-max\">\n",
      "    5,95\n",
      "   </div>\n",
      "  </div>\n",
      " </div>\n",
      " <div class=\"tabel-body\">\n",
      "  <div class=\"kol-konten3-1\">\n",
      "   31/08/2022\n",
      "  </div>\n",
      "  <div class=\"kol-konten3-2\">\n",
      "   <div class=\"w-30-px txtright center-max\">\n",
      "    0,21\n",
      "   </div>\n",
      "  </div\n"
     ]
    }
   ],
   "source": [
    "table = soup.find('div', attrs={'class':'baris-scroll'})\n",
    "print(table.prettify()[1:500])"
   ]
  },
  {
   "cell_type": "code",
   "execution_count": 8,
   "id": "458b4ba3-ba31-4d00-acf4-a4a38943b5f8",
   "metadata": {},
   "outputs": [
    {
     "data": {
      "text/plain": [
       "50"
      ]
     },
     "execution_count": 8,
     "metadata": {},
     "output_type": "execute_result"
    }
   ],
   "source": [
    "row = table.find_all('div', attrs={'class':'kol-konten3-1'})\n",
    "row_length = len(row)\n",
    "row_length"
   ]
  },
  {
   "cell_type": "code",
   "execution_count": 9,
   "id": "ce4fe164-92a2-4c61-8621-4edf83ccc441",
   "metadata": {},
   "outputs": [
    {
     "data": {
      "text/plain": [
       "[('31/08/2022', '0,21', '4,69'),\n",
       " ('31/07/2022', '0,64', '4,94'),\n",
       " ('30/06/2022', '0.61', '4.35'),\n",
       " ('31/05/2022', '0,40', '3,55'),\n",
       " ('30/04/2022', '0,95', '3,47'),\n",
       " ('31/03/2022', '0.66', '2.64'),\n",
       " ('28/02/2022', '0,54', '2,06'),\n",
       " ('31/01/2022', '0,56', '2,18'),\n",
       " ('31/12/2021', '0,57', '1,87'),\n",
       " ('30/11/2021', '0,37', '1,75'),\n",
       " ('31/10/2021', '0,12', '1,66'),\n",
       " ('30/09/2021', '0,04', '1,60'),\n",
       " ('31/08/2021', '0,03', '1,59'),\n",
       " ('31/07/2021', '0,08', '1,52'),\n",
       " ('30/06/2021', '0,16', '1,33'),\n",
       " ('31/05/2021', '0,32', '1,68'),\n",
       " ('30/04/2021', '0,13', '1,42'),\n",
       " ('31/03/2021', '0,08', '1,37'),\n",
       " ('28/02/2021', '0,10', '1.38'),\n",
       " ('31/01/2021', '0,26', '1.55'),\n",
       " ('31/12/2020', '0,45', '1.68'),\n",
       " ('30/11/2020', '0,28', '1.59'),\n",
       " ('31/10/2020', '0,07', '1.44'),\n",
       " ('30/09/2020', '0,05', '1,42'),\n",
       " ('31/08/2020', '0.05', '1.32'),\n",
       " ('31/07/2020', '0.04', '1.54'),\n",
       " ('30/06/2020', '0.18', '1.96'),\n",
       " ('31/05/2020', '0,07', '2,19'),\n",
       " ('30/04/2020', '0,08', '2,67'),\n",
       " ('31/03/2020', '0.10', '2.96'),\n",
       " ('28/02/2020', '0,28', '2,98'),\n",
       " ('31/01/2020', '0,39', '2,68'),\n",
       " ('31/12/2019', '0,34', '2,27'),\n",
       " ('30/11/2019', '0,14', '3'),\n",
       " ('31/10/2019', '0,02', '2,22'),\n",
       " ('30/09/2019', '-0,27', '3,39'),\n",
       " ('31/08/2019', '0,12', '3,49'),\n",
       " ('31/07/2019', '0,31', '3,32'),\n",
       " ('30/06/2019', '0,55', '3,28'),\n",
       " ('31/05/2019', '0,68', '3,32'),\n",
       " ('30/04/2019', '0,44', '2,83'),\n",
       " ('31/03/2019', '0,11', '2,48'),\n",
       " ('28/02/2019', '-0,08', '2,57'),\n",
       " ('31/01/2019', '0,32', '2,82'),\n",
       " ('31/12/2018', '0,62', '3,13'),\n",
       " ('30/11/2018', '0,27', '3,23'),\n",
       " ('31/10/2018', '0,28', '3,16'),\n",
       " ('30/09/2018', '-0,18', '2,88'),\n",
       " ('31/08/2018', '-0,05', '3,20')]"
      ]
     },
     "execution_count": 9,
     "metadata": {},
     "output_type": "execute_result"
    }
   ],
   "source": [
    "temp = [] #init\n",
    "\n",
    "for i in range(1, row_length):\n",
    "    \n",
    "    #get period \n",
    "    period = table.find_all('div', attrs={'class':'kol-konten3-1'})[i].text\n",
    "    \n",
    "    #get inflation mom\n",
    "    inflation_mom = table.find_all('div', attrs={'class':'kol-konten3-2'})[i].text\n",
    "    inflation_mom = inflation_mom.strip() #to remove excess white space\n",
    "    \n",
    "    #get inflation yoy\n",
    "    inflation_yoy = table.find_all('div', attrs={'class':'kol-konten3-3'})[i].text\n",
    "    inflation_yoy = inflation_yoy.strip() #to remove excess white space\n",
    "    \n",
    "    temp.append((period,inflation_mom,inflation_yoy)) \n",
    "    \n",
    "temp "
   ]
  },
  {
   "cell_type": "code",
   "execution_count": 10,
   "id": "87c1fcdc-6bcb-4738-8058-857a4c3308cc",
   "metadata": {},
   "outputs": [
    {
     "data": {
      "text/plain": [
       "[('31/08/2022', '0,21', '4,69'),\n",
       " ('31/07/2022', '0,64', '4,94'),\n",
       " ('30/06/2022', '0.61', '4.35'),\n",
       " ('31/05/2022', '0,40', '3,55'),\n",
       " ('30/04/2022', '0,95', '3,47'),\n",
       " ('31/03/2022', '0.66', '2.64'),\n",
       " ('28/02/2022', '0,54', '2,06'),\n",
       " ('31/01/2022', '0,56', '2,18'),\n",
       " ('31/12/2021', '0,57', '1,87'),\n",
       " ('30/11/2021', '0,37', '1,75'),\n",
       " ('31/10/2021', '0,12', '1,66'),\n",
       " ('30/09/2021', '0,04', '1,60'),\n",
       " ('31/08/2021', '0,03', '1,59'),\n",
       " ('31/07/2021', '0,08', '1,52'),\n",
       " ('30/06/2021', '0,16', '1,33'),\n",
       " ('31/05/2021', '0,32', '1,68'),\n",
       " ('30/04/2021', '0,13', '1,42'),\n",
       " ('31/03/2021', '0,08', '1,37'),\n",
       " ('28/02/2021', '0,10', '1.38'),\n",
       " ('31/01/2021', '0,26', '1.55'),\n",
       " ('31/12/2020', '0,45', '1.68'),\n",
       " ('30/11/2020', '0,28', '1.59'),\n",
       " ('31/10/2020', '0,07', '1.44'),\n",
       " ('30/09/2020', '0,05', '1,42'),\n",
       " ('31/08/2020', '0.05', '1.32'),\n",
       " ('31/07/2020', '0.04', '1.54'),\n",
       " ('30/06/2020', '0.18', '1.96'),\n",
       " ('31/05/2020', '0,07', '2,19'),\n",
       " ('30/04/2020', '0,08', '2,67'),\n",
       " ('31/03/2020', '0.10', '2.96'),\n",
       " ('28/02/2020', '0,28', '2,98'),\n",
       " ('31/01/2020', '0,39', '2,68'),\n",
       " ('31/12/2019', '0,34', '2,27'),\n",
       " ('30/11/2019', '0,14', '3'),\n",
       " ('31/10/2019', '0,02', '2,22'),\n",
       " ('30/09/2019', '-0,27', '3,39'),\n",
       " ('31/08/2019', '0,12', '3,49'),\n",
       " ('31/07/2019', '0,31', '3,32'),\n",
       " ('30/06/2019', '0,55', '3,28'),\n",
       " ('31/05/2019', '0,68', '3,32'),\n",
       " ('30/04/2019', '0,44', '2,83'),\n",
       " ('31/03/2019', '0,11', '2,48'),\n",
       " ('28/02/2019', '-0,08', '2,57'),\n",
       " ('31/01/2019', '0,32', '2,82'),\n",
       " ('31/12/2018', '0,62', '3,13'),\n",
       " ('30/11/2018', '0,27', '3,23'),\n",
       " ('31/10/2018', '0,28', '3,16'),\n",
       " ('30/09/2018', '-0,18', '2,88'),\n",
       " ('31/08/2018', '-0,05', '3,20')]"
      ]
     },
     "execution_count": 10,
     "metadata": {},
     "output_type": "execute_result"
    }
   ],
   "source": [
    "temp = temp[::-1]\n",
    "temp"
   ]
  },
  {
   "cell_type": "code",
   "execution_count": 10,
   "id": "8b03c54e-5c9d-4e65-a51c-c2267b53b0e4",
   "metadata": {},
   "outputs": [
    {
     "data": {
      "text/html": [
       "<div>\n",
       "<style scoped>\n",
       "    .dataframe tbody tr th:only-of-type {\n",
       "        vertical-align: middle;\n",
       "    }\n",
       "\n",
       "    .dataframe tbody tr th {\n",
       "        vertical-align: top;\n",
       "    }\n",
       "\n",
       "    .dataframe thead th {\n",
       "        text-align: right;\n",
       "    }\n",
       "</style>\n",
       "<table border=\"1\" class=\"dataframe\">\n",
       "  <thead>\n",
       "    <tr style=\"text-align: right;\">\n",
       "      <th></th>\n",
       "      <th>period</th>\n",
       "      <th>inflation_mom</th>\n",
       "      <th>inflation_yoy</th>\n",
       "    </tr>\n",
       "  </thead>\n",
       "  <tbody>\n",
       "    <tr>\n",
       "      <th>0</th>\n",
       "      <td>31/08/2022</td>\n",
       "      <td>0,21</td>\n",
       "      <td>4,69</td>\n",
       "    </tr>\n",
       "    <tr>\n",
       "      <th>1</th>\n",
       "      <td>31/07/2022</td>\n",
       "      <td>0,64</td>\n",
       "      <td>4,94</td>\n",
       "    </tr>\n",
       "    <tr>\n",
       "      <th>2</th>\n",
       "      <td>30/06/2022</td>\n",
       "      <td>0.61</td>\n",
       "      <td>4.35</td>\n",
       "    </tr>\n",
       "    <tr>\n",
       "      <th>3</th>\n",
       "      <td>31/05/2022</td>\n",
       "      <td>0,40</td>\n",
       "      <td>3,55</td>\n",
       "    </tr>\n",
       "    <tr>\n",
       "      <th>4</th>\n",
       "      <td>30/04/2022</td>\n",
       "      <td>0,95</td>\n",
       "      <td>3,47</td>\n",
       "    </tr>\n",
       "  </tbody>\n",
       "</table>\n",
       "</div>"
      ],
      "text/plain": [
       "       period inflation_mom inflation_yoy\n",
       "0  31/08/2022          0,21          4,69\n",
       "1  31/07/2022          0,64          4,94\n",
       "2  30/06/2022          0.61          4.35\n",
       "3  31/05/2022          0,40          3,55\n",
       "4  30/04/2022          0,95          3,47"
      ]
     },
     "execution_count": 10,
     "metadata": {},
     "output_type": "execute_result"
    }
   ],
   "source": [
    "import pandas as pd\n",
    "\n",
    "df = pd.DataFrame(temp, columns = ('period','inflation_mom','inflation_yoy'))\n",
    "df.head()"
   ]
  },
  {
   "cell_type": "code",
   "execution_count": 11,
   "id": "6e7c84c3-227b-4533-99d7-237e325aa51e",
   "metadata": {},
   "outputs": [
    {
     "data": {
      "text/plain": [
       "period            object\n",
       "inflation_mom    float64\n",
       "inflation_yoy    float64\n",
       "dtype: object"
      ]
     },
     "execution_count": 11,
     "metadata": {},
     "output_type": "execute_result"
    }
   ],
   "source": [
    "df['inflation_mom'] = df['inflation_mom'].str.replace(\",\",\".\")\n",
    "df['inflation_mom'] = df['inflation_mom'].astype('float64')\n",
    "df['inflation_yoy'] = df['inflation_yoy'].str.replace(\",\",\".\")\n",
    "df['inflation_yoy'] = df['inflation_yoy'].astype('float64')\n",
    "\n",
    "df.dtypes"
   ]
  },
  {
   "cell_type": "code",
   "execution_count": 12,
   "id": "df691e09-11b2-4d57-bca0-4caa0ae14930",
   "metadata": {},
   "outputs": [
    {
     "data": {
      "text/html": [
       "<div>\n",
       "<style scoped>\n",
       "    .dataframe tbody tr th:only-of-type {\n",
       "        vertical-align: middle;\n",
       "    }\n",
       "\n",
       "    .dataframe tbody tr th {\n",
       "        vertical-align: top;\n",
       "    }\n",
       "\n",
       "    .dataframe thead th {\n",
       "        text-align: right;\n",
       "    }\n",
       "</style>\n",
       "<table border=\"1\" class=\"dataframe\">\n",
       "  <thead>\n",
       "    <tr style=\"text-align: right;\">\n",
       "      <th></th>\n",
       "      <th>period</th>\n",
       "      <th>inflation_mom</th>\n",
       "      <th>inflation_yoy</th>\n",
       "    </tr>\n",
       "  </thead>\n",
       "  <tbody>\n",
       "    <tr>\n",
       "      <th>0</th>\n",
       "      <td>31/08/2022</td>\n",
       "      <td>0.21</td>\n",
       "      <td>4.69</td>\n",
       "    </tr>\n",
       "    <tr>\n",
       "      <th>1</th>\n",
       "      <td>31/07/2022</td>\n",
       "      <td>0.64</td>\n",
       "      <td>4.94</td>\n",
       "    </tr>\n",
       "    <tr>\n",
       "      <th>2</th>\n",
       "      <td>30/06/2022</td>\n",
       "      <td>0.61</td>\n",
       "      <td>4.35</td>\n",
       "    </tr>\n",
       "    <tr>\n",
       "      <th>3</th>\n",
       "      <td>31/05/2022</td>\n",
       "      <td>0.40</td>\n",
       "      <td>3.55</td>\n",
       "    </tr>\n",
       "    <tr>\n",
       "      <th>4</th>\n",
       "      <td>30/04/2022</td>\n",
       "      <td>0.95</td>\n",
       "      <td>3.47</td>\n",
       "    </tr>\n",
       "    <tr>\n",
       "      <th>5</th>\n",
       "      <td>31/03/2022</td>\n",
       "      <td>0.66</td>\n",
       "      <td>2.64</td>\n",
       "    </tr>\n",
       "    <tr>\n",
       "      <th>6</th>\n",
       "      <td>28/02/2022</td>\n",
       "      <td>0.54</td>\n",
       "      <td>2.06</td>\n",
       "    </tr>\n",
       "    <tr>\n",
       "      <th>7</th>\n",
       "      <td>31/01/2022</td>\n",
       "      <td>0.56</td>\n",
       "      <td>2.18</td>\n",
       "    </tr>\n",
       "    <tr>\n",
       "      <th>8</th>\n",
       "      <td>31/12/2021</td>\n",
       "      <td>0.57</td>\n",
       "      <td>1.87</td>\n",
       "    </tr>\n",
       "    <tr>\n",
       "      <th>9</th>\n",
       "      <td>30/11/2021</td>\n",
       "      <td>0.37</td>\n",
       "      <td>1.75</td>\n",
       "    </tr>\n",
       "    <tr>\n",
       "      <th>10</th>\n",
       "      <td>31/10/2021</td>\n",
       "      <td>0.12</td>\n",
       "      <td>1.66</td>\n",
       "    </tr>\n",
       "    <tr>\n",
       "      <th>11</th>\n",
       "      <td>30/09/2021</td>\n",
       "      <td>0.04</td>\n",
       "      <td>1.60</td>\n",
       "    </tr>\n",
       "    <tr>\n",
       "      <th>12</th>\n",
       "      <td>31/08/2021</td>\n",
       "      <td>0.03</td>\n",
       "      <td>1.59</td>\n",
       "    </tr>\n",
       "    <tr>\n",
       "      <th>13</th>\n",
       "      <td>31/07/2021</td>\n",
       "      <td>0.08</td>\n",
       "      <td>1.52</td>\n",
       "    </tr>\n",
       "    <tr>\n",
       "      <th>14</th>\n",
       "      <td>30/06/2021</td>\n",
       "      <td>0.16</td>\n",
       "      <td>1.33</td>\n",
       "    </tr>\n",
       "    <tr>\n",
       "      <th>15</th>\n",
       "      <td>31/05/2021</td>\n",
       "      <td>0.32</td>\n",
       "      <td>1.68</td>\n",
       "    </tr>\n",
       "    <tr>\n",
       "      <th>16</th>\n",
       "      <td>30/04/2021</td>\n",
       "      <td>0.13</td>\n",
       "      <td>1.42</td>\n",
       "    </tr>\n",
       "    <tr>\n",
       "      <th>17</th>\n",
       "      <td>31/03/2021</td>\n",
       "      <td>0.08</td>\n",
       "      <td>1.37</td>\n",
       "    </tr>\n",
       "    <tr>\n",
       "      <th>18</th>\n",
       "      <td>28/02/2021</td>\n",
       "      <td>0.10</td>\n",
       "      <td>1.38</td>\n",
       "    </tr>\n",
       "    <tr>\n",
       "      <th>19</th>\n",
       "      <td>31/01/2021</td>\n",
       "      <td>0.26</td>\n",
       "      <td>1.55</td>\n",
       "    </tr>\n",
       "    <tr>\n",
       "      <th>20</th>\n",
       "      <td>31/12/2020</td>\n",
       "      <td>0.45</td>\n",
       "      <td>1.68</td>\n",
       "    </tr>\n",
       "    <tr>\n",
       "      <th>21</th>\n",
       "      <td>30/11/2020</td>\n",
       "      <td>0.28</td>\n",
       "      <td>1.59</td>\n",
       "    </tr>\n",
       "    <tr>\n",
       "      <th>22</th>\n",
       "      <td>31/10/2020</td>\n",
       "      <td>0.07</td>\n",
       "      <td>1.44</td>\n",
       "    </tr>\n",
       "    <tr>\n",
       "      <th>23</th>\n",
       "      <td>30/09/2020</td>\n",
       "      <td>0.05</td>\n",
       "      <td>1.42</td>\n",
       "    </tr>\n",
       "    <tr>\n",
       "      <th>24</th>\n",
       "      <td>31/08/2020</td>\n",
       "      <td>0.05</td>\n",
       "      <td>1.32</td>\n",
       "    </tr>\n",
       "    <tr>\n",
       "      <th>25</th>\n",
       "      <td>31/07/2020</td>\n",
       "      <td>0.04</td>\n",
       "      <td>1.54</td>\n",
       "    </tr>\n",
       "    <tr>\n",
       "      <th>26</th>\n",
       "      <td>30/06/2020</td>\n",
       "      <td>0.18</td>\n",
       "      <td>1.96</td>\n",
       "    </tr>\n",
       "    <tr>\n",
       "      <th>27</th>\n",
       "      <td>31/05/2020</td>\n",
       "      <td>0.07</td>\n",
       "      <td>2.19</td>\n",
       "    </tr>\n",
       "    <tr>\n",
       "      <th>28</th>\n",
       "      <td>30/04/2020</td>\n",
       "      <td>0.08</td>\n",
       "      <td>2.67</td>\n",
       "    </tr>\n",
       "    <tr>\n",
       "      <th>29</th>\n",
       "      <td>31/03/2020</td>\n",
       "      <td>0.10</td>\n",
       "      <td>2.96</td>\n",
       "    </tr>\n",
       "    <tr>\n",
       "      <th>30</th>\n",
       "      <td>28/02/2020</td>\n",
       "      <td>0.28</td>\n",
       "      <td>2.98</td>\n",
       "    </tr>\n",
       "    <tr>\n",
       "      <th>31</th>\n",
       "      <td>31/01/2020</td>\n",
       "      <td>0.39</td>\n",
       "      <td>2.68</td>\n",
       "    </tr>\n",
       "    <tr>\n",
       "      <th>32</th>\n",
       "      <td>31/12/2019</td>\n",
       "      <td>0.34</td>\n",
       "      <td>2.27</td>\n",
       "    </tr>\n",
       "    <tr>\n",
       "      <th>33</th>\n",
       "      <td>30/11/2019</td>\n",
       "      <td>0.14</td>\n",
       "      <td>3.00</td>\n",
       "    </tr>\n",
       "    <tr>\n",
       "      <th>34</th>\n",
       "      <td>31/10/2019</td>\n",
       "      <td>0.02</td>\n",
       "      <td>2.22</td>\n",
       "    </tr>\n",
       "    <tr>\n",
       "      <th>35</th>\n",
       "      <td>30/09/2019</td>\n",
       "      <td>-0.27</td>\n",
       "      <td>3.39</td>\n",
       "    </tr>\n",
       "    <tr>\n",
       "      <th>36</th>\n",
       "      <td>31/08/2019</td>\n",
       "      <td>0.12</td>\n",
       "      <td>3.49</td>\n",
       "    </tr>\n",
       "    <tr>\n",
       "      <th>37</th>\n",
       "      <td>31/07/2019</td>\n",
       "      <td>0.31</td>\n",
       "      <td>3.32</td>\n",
       "    </tr>\n",
       "    <tr>\n",
       "      <th>38</th>\n",
       "      <td>30/06/2019</td>\n",
       "      <td>0.55</td>\n",
       "      <td>3.28</td>\n",
       "    </tr>\n",
       "    <tr>\n",
       "      <th>39</th>\n",
       "      <td>31/05/2019</td>\n",
       "      <td>0.68</td>\n",
       "      <td>3.32</td>\n",
       "    </tr>\n",
       "    <tr>\n",
       "      <th>40</th>\n",
       "      <td>30/04/2019</td>\n",
       "      <td>0.44</td>\n",
       "      <td>2.83</td>\n",
       "    </tr>\n",
       "    <tr>\n",
       "      <th>41</th>\n",
       "      <td>31/03/2019</td>\n",
       "      <td>0.11</td>\n",
       "      <td>2.48</td>\n",
       "    </tr>\n",
       "    <tr>\n",
       "      <th>42</th>\n",
       "      <td>28/02/2019</td>\n",
       "      <td>-0.08</td>\n",
       "      <td>2.57</td>\n",
       "    </tr>\n",
       "    <tr>\n",
       "      <th>43</th>\n",
       "      <td>31/01/2019</td>\n",
       "      <td>0.32</td>\n",
       "      <td>2.82</td>\n",
       "    </tr>\n",
       "    <tr>\n",
       "      <th>44</th>\n",
       "      <td>31/12/2018</td>\n",
       "      <td>0.62</td>\n",
       "      <td>3.13</td>\n",
       "    </tr>\n",
       "    <tr>\n",
       "      <th>45</th>\n",
       "      <td>30/11/2018</td>\n",
       "      <td>0.27</td>\n",
       "      <td>3.23</td>\n",
       "    </tr>\n",
       "    <tr>\n",
       "      <th>46</th>\n",
       "      <td>31/10/2018</td>\n",
       "      <td>0.28</td>\n",
       "      <td>3.16</td>\n",
       "    </tr>\n",
       "    <tr>\n",
       "      <th>47</th>\n",
       "      <td>30/09/2018</td>\n",
       "      <td>-0.18</td>\n",
       "      <td>2.88</td>\n",
       "    </tr>\n",
       "    <tr>\n",
       "      <th>48</th>\n",
       "      <td>31/08/2018</td>\n",
       "      <td>-0.05</td>\n",
       "      <td>3.20</td>\n",
       "    </tr>\n",
       "  </tbody>\n",
       "</table>\n",
       "</div>"
      ],
      "text/plain": [
       "        period  inflation_mom  inflation_yoy\n",
       "0   31/08/2022           0.21           4.69\n",
       "1   31/07/2022           0.64           4.94\n",
       "2   30/06/2022           0.61           4.35\n",
       "3   31/05/2022           0.40           3.55\n",
       "4   30/04/2022           0.95           3.47\n",
       "5   31/03/2022           0.66           2.64\n",
       "6   28/02/2022           0.54           2.06\n",
       "7   31/01/2022           0.56           2.18\n",
       "8   31/12/2021           0.57           1.87\n",
       "9   30/11/2021           0.37           1.75\n",
       "10  31/10/2021           0.12           1.66\n",
       "11  30/09/2021           0.04           1.60\n",
       "12  31/08/2021           0.03           1.59\n",
       "13  31/07/2021           0.08           1.52\n",
       "14  30/06/2021           0.16           1.33\n",
       "15  31/05/2021           0.32           1.68\n",
       "16  30/04/2021           0.13           1.42\n",
       "17  31/03/2021           0.08           1.37\n",
       "18  28/02/2021           0.10           1.38\n",
       "19  31/01/2021           0.26           1.55\n",
       "20  31/12/2020           0.45           1.68\n",
       "21  30/11/2020           0.28           1.59\n",
       "22  31/10/2020           0.07           1.44\n",
       "23  30/09/2020           0.05           1.42\n",
       "24  31/08/2020           0.05           1.32\n",
       "25  31/07/2020           0.04           1.54\n",
       "26  30/06/2020           0.18           1.96\n",
       "27  31/05/2020           0.07           2.19\n",
       "28  30/04/2020           0.08           2.67\n",
       "29  31/03/2020           0.10           2.96\n",
       "30  28/02/2020           0.28           2.98\n",
       "31  31/01/2020           0.39           2.68\n",
       "32  31/12/2019           0.34           2.27\n",
       "33  30/11/2019           0.14           3.00\n",
       "34  31/10/2019           0.02           2.22\n",
       "35  30/09/2019          -0.27           3.39\n",
       "36  31/08/2019           0.12           3.49\n",
       "37  31/07/2019           0.31           3.32\n",
       "38  30/06/2019           0.55           3.28\n",
       "39  31/05/2019           0.68           3.32\n",
       "40  30/04/2019           0.44           2.83\n",
       "41  31/03/2019           0.11           2.48\n",
       "42  28/02/2019          -0.08           2.57\n",
       "43  31/01/2019           0.32           2.82\n",
       "44  31/12/2018           0.62           3.13\n",
       "45  30/11/2018           0.27           3.23\n",
       "46  31/10/2018           0.28           3.16\n",
       "47  30/09/2018          -0.18           2.88\n",
       "48  31/08/2018          -0.05           3.20"
      ]
     },
     "execution_count": 12,
     "metadata": {},
     "output_type": "execute_result"
    }
   ],
   "source": [
    "df"
   ]
  },
  {
   "cell_type": "code",
   "execution_count": 13,
   "id": "f8c8182b-e8fa-48a0-8c96-2bae0f037d95",
   "metadata": {},
   "outputs": [
    {
     "name": "stderr",
     "output_type": "stream",
     "text": [
      "/tmp/ipykernel_662/2608083859.py:1: FutureWarning: Using short name for 'orient' is deprecated. Only the options: ('dict', list, 'series', 'split', 'records', 'index') will be used in a future version. Use one of the above to silence this warning.\n",
      "  result = df.to_dict('record')\n"
     ]
    }
   ],
   "source": [
    "result = df.to_dict('record')"
   ]
  },
  {
   "cell_type": "code",
   "execution_count": 14,
   "id": "70d1d3ae-1bde-438e-8628-d9a03168b69d",
   "metadata": {},
   "outputs": [
    {
     "data": {
      "text/plain": [
       "[{'period': '31/08/2022', 'inflation_mom': 0.21, 'inflation_yoy': 4.69},\n",
       " {'period': '31/07/2022', 'inflation_mom': 0.64, 'inflation_yoy': 4.94},\n",
       " {'period': '30/06/2022', 'inflation_mom': 0.61, 'inflation_yoy': 4.35},\n",
       " {'period': '31/05/2022', 'inflation_mom': 0.4, 'inflation_yoy': 3.55},\n",
       " {'period': '30/04/2022', 'inflation_mom': 0.95, 'inflation_yoy': 3.47},\n",
       " {'period': '31/03/2022', 'inflation_mom': 0.66, 'inflation_yoy': 2.64},\n",
       " {'period': '28/02/2022', 'inflation_mom': 0.54, 'inflation_yoy': 2.06},\n",
       " {'period': '31/01/2022', 'inflation_mom': 0.56, 'inflation_yoy': 2.18},\n",
       " {'period': '31/12/2021', 'inflation_mom': 0.57, 'inflation_yoy': 1.87},\n",
       " {'period': '30/11/2021', 'inflation_mom': 0.37, 'inflation_yoy': 1.75},\n",
       " {'period': '31/10/2021', 'inflation_mom': 0.12, 'inflation_yoy': 1.66},\n",
       " {'period': '30/09/2021', 'inflation_mom': 0.04, 'inflation_yoy': 1.6},\n",
       " {'period': '31/08/2021', 'inflation_mom': 0.03, 'inflation_yoy': 1.59},\n",
       " {'period': '31/07/2021', 'inflation_mom': 0.08, 'inflation_yoy': 1.52},\n",
       " {'period': '30/06/2021', 'inflation_mom': 0.16, 'inflation_yoy': 1.33},\n",
       " {'period': '31/05/2021', 'inflation_mom': 0.32, 'inflation_yoy': 1.68},\n",
       " {'period': '30/04/2021', 'inflation_mom': 0.13, 'inflation_yoy': 1.42},\n",
       " {'period': '31/03/2021', 'inflation_mom': 0.08, 'inflation_yoy': 1.37},\n",
       " {'period': '28/02/2021', 'inflation_mom': 0.1, 'inflation_yoy': 1.38},\n",
       " {'period': '31/01/2021', 'inflation_mom': 0.26, 'inflation_yoy': 1.55},\n",
       " {'period': '31/12/2020', 'inflation_mom': 0.45, 'inflation_yoy': 1.68},\n",
       " {'period': '30/11/2020', 'inflation_mom': 0.28, 'inflation_yoy': 1.59},\n",
       " {'period': '31/10/2020', 'inflation_mom': 0.07, 'inflation_yoy': 1.44},\n",
       " {'period': '30/09/2020', 'inflation_mom': 0.05, 'inflation_yoy': 1.42},\n",
       " {'period': '31/08/2020', 'inflation_mom': 0.05, 'inflation_yoy': 1.32},\n",
       " {'period': '31/07/2020', 'inflation_mom': 0.04, 'inflation_yoy': 1.54},\n",
       " {'period': '30/06/2020', 'inflation_mom': 0.18, 'inflation_yoy': 1.96},\n",
       " {'period': '31/05/2020', 'inflation_mom': 0.07, 'inflation_yoy': 2.19},\n",
       " {'period': '30/04/2020', 'inflation_mom': 0.08, 'inflation_yoy': 2.67},\n",
       " {'period': '31/03/2020', 'inflation_mom': 0.1, 'inflation_yoy': 2.96},\n",
       " {'period': '28/02/2020', 'inflation_mom': 0.28, 'inflation_yoy': 2.98},\n",
       " {'period': '31/01/2020', 'inflation_mom': 0.39, 'inflation_yoy': 2.68},\n",
       " {'period': '31/12/2019', 'inflation_mom': 0.34, 'inflation_yoy': 2.27},\n",
       " {'period': '30/11/2019', 'inflation_mom': 0.14, 'inflation_yoy': 3.0},\n",
       " {'period': '31/10/2019', 'inflation_mom': 0.02, 'inflation_yoy': 2.22},\n",
       " {'period': '30/09/2019', 'inflation_mom': -0.27, 'inflation_yoy': 3.39},\n",
       " {'period': '31/08/2019', 'inflation_mom': 0.12, 'inflation_yoy': 3.49},\n",
       " {'period': '31/07/2019', 'inflation_mom': 0.31, 'inflation_yoy': 3.32},\n",
       " {'period': '30/06/2019', 'inflation_mom': 0.55, 'inflation_yoy': 3.28},\n",
       " {'period': '31/05/2019', 'inflation_mom': 0.68, 'inflation_yoy': 3.32},\n",
       " {'period': '30/04/2019', 'inflation_mom': 0.44, 'inflation_yoy': 2.83},\n",
       " {'period': '31/03/2019', 'inflation_mom': 0.11, 'inflation_yoy': 2.48},\n",
       " {'period': '28/02/2019', 'inflation_mom': -0.08, 'inflation_yoy': 2.57},\n",
       " {'period': '31/01/2019', 'inflation_mom': 0.32, 'inflation_yoy': 2.82},\n",
       " {'period': '31/12/2018', 'inflation_mom': 0.62, 'inflation_yoy': 3.13},\n",
       " {'period': '30/11/2018', 'inflation_mom': 0.27, 'inflation_yoy': 3.23},\n",
       " {'period': '31/10/2018', 'inflation_mom': 0.28, 'inflation_yoy': 3.16},\n",
       " {'period': '30/09/2018', 'inflation_mom': -0.18, 'inflation_yoy': 2.88},\n",
       " {'period': '31/08/2018', 'inflation_mom': -0.05, 'inflation_yoy': 3.2}]"
      ]
     },
     "execution_count": 14,
     "metadata": {},
     "output_type": "execute_result"
    }
   ],
   "source": [
    "result"
   ]
  },
  {
   "cell_type": "code",
   "execution_count": 15,
   "id": "6fe38038-1fe6-404c-8cc9-8648bcf214cb",
   "metadata": {},
   "outputs": [],
   "source": [
    "with open('data.json', 'w') as f:\n",
    "    json.dump(result, f)"
   ]
  },
  {
   "cell_type": "markdown",
   "id": "9bda8f4e-84b1-4b61-bcc7-b09c6f229b46",
   "metadata": {
    "tags": []
   },
   "source": [
    "## Upload data to DataPlatform"
   ]
  },
  {
   "cell_type": "code",
   "execution_count": 16,
   "id": "78743c9a-58bc-4637-802f-4c809a133430",
   "metadata": {},
   "outputs": [],
   "source": [
    "from dsmlibrary.datanode import DataNode"
   ]
  },
  {
   "cell_type": "code",
   "execution_count": 17,
   "id": "87bc0455-ee3d-4d92-8065-c581f7749063",
   "metadata": {},
   "outputs": [],
   "source": [
    "dir_raw_id = 106"
   ]
  },
  {
   "cell_type": "code",
   "execution_count": 18,
   "id": "da831174-9c0c-4252-8b2f-ad0eff5e483e",
   "metadata": {},
   "outputs": [
    {
     "name": "stdout",
     "output_type": "stream",
     "text": [
      "Init DataNode sucessful!\n"
     ]
    }
   ],
   "source": [
    "datanode = DataNode()"
   ]
  },
  {
   "cell_type": "code",
   "execution_count": 19,
   "id": "8e70572a-332c-45b1-ab97-a3b621eaf995",
   "metadata": {},
   "outputs": [
    {
     "name": "stdin",
     "output_type": "stream",
     "text": [
      "File data.json alrady exists, do you want to replace y/n :  y\n"
     ]
    },
    {
     "data": {
      "application/vnd.jupyter.widget-view+json": {
       "model_id": "c7d98ad5b03f4ef1adf6cde602c7fcdc",
       "version_major": 2,
       "version_minor": 0
      },
      "text/plain": [
       "  0%|          | 0.00/3.44k [00:00<?, ?B/s]"
      ]
     },
     "metadata": {},
     "output_type": "display_data"
    },
    {
     "data": {
      "text/plain": [
       "{'id': 201,\n",
       " 'msg': 'file data.json create sucessful',\n",
       " 'path': 'sutthichet/DSI310-01/rawData/data.json',\n",
       " 'uploaded': True}"
      ]
     },
     "execution_count": 19,
     "metadata": {},
     "output_type": "execute_result"
    }
   ],
   "source": [
    "datanode.upload_file(directory_id=dir_raw_id, file_path='data.json')"
   ]
  }
 ],
 "metadata": {
  "kernelspec": {
   "display_name": "Python 3 (ipykernel)",
   "language": "python",
   "name": "python3"
  },
  "language_info": {
   "codemirror_mode": {
    "name": "ipython",
    "version": 3
   },
   "file_extension": ".py",
   "mimetype": "text/x-python",
   "name": "python",
   "nbconvert_exporter": "python",
   "pygments_lexer": "ipython3",
   "version": "3.10.5"
  }
 },
 "nbformat": 4,
 "nbformat_minor": 5
}
