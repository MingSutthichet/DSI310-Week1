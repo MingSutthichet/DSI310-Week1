{
 "cells": [
  {
   "cell_type": "markdown",
   "id": "8776c1ef-4830-4d67-87b0-55be1e69c995",
   "metadata": {},
   "source": [
    "# 02_entiry-extract\n",
    "- entity extraction from news description using trasnformer `Davlan/xlm-roberta-base-ner-hrl`"
   ]
  },
  {
   "cell_type": "markdown",
   "id": "573b8282-c8f8-4a21-9e01-637bb228ff05",
   "metadata": {},
   "source": [
    "### install extra library"
   ]
  },
  {
   "cell_type": "code",
   "execution_count": 1,
   "id": "8a803140-e672-477e-bebb-d32f1e554b54",
   "metadata": {
    "tags": []
   },
   "outputs": [
    {
     "name": "stdout",
     "output_type": "stream",
     "text": [
      "Collecting transformers\n",
      "  Downloading transformers-4.23.1-py3-none-any.whl (5.3 MB)\n",
      "\u001b[2K     \u001b[90m━━━━━━━━━━━━━━━━━━━━━━━━━━━━━━━━━━━━━━━━\u001b[0m \u001b[32m5.3/5.3 MB\u001b[0m \u001b[31m4.8 MB/s\u001b[0m eta \u001b[36m0:00:00\u001b[0m00:01\u001b[0m00:01\u001b[0m\n",
      "\u001b[?25hCollecting torch\n",
      "  Downloading torch-1.12.1-cp310-cp310-manylinux1_x86_64.whl (776.3 MB)\n",
      "\u001b[2K     \u001b[90m━━━━━━━━━━━━━━━━━━━━━━━━━━━━━━━━━━━━━━━\u001b[0m \u001b[32m776.3/776.3 MB\u001b[0m \u001b[31m1.1 MB/s\u001b[0m eta \u001b[36m0:00:00\u001b[0m00:01\u001b[0m00:04\u001b[0m\n",
      "\u001b[?25hCollecting filelock\n",
      "  Downloading filelock-3.8.0-py3-none-any.whl (10 kB)\n",
      "Requirement already satisfied: tqdm>=4.27 in /opt/conda/lib/python3.10/site-packages (from transformers) (4.64.0)\n",
      "Collecting regex!=2019.12.17\n",
      "  Downloading regex-2022.9.13-cp310-cp310-manylinux_2_17_x86_64.manylinux2014_x86_64.whl (770 kB)\n",
      "\u001b[2K     \u001b[90m━━━━━━━━━━━━━━━━━━━━━━━━━━━━━━━━━━━━━━━\u001b[0m \u001b[32m770.5/770.5 kB\u001b[0m \u001b[31m5.4 MB/s\u001b[0m eta \u001b[36m0:00:00\u001b[0m00:01\u001b[0m00:01\u001b[0m\n",
      "\u001b[?25hRequirement already satisfied: pyyaml>=5.1 in /opt/conda/lib/python3.10/site-packages (from transformers) (6.0)\n",
      "Collecting huggingface-hub<1.0,>=0.10.0\n",
      "  Downloading huggingface_hub-0.10.1-py3-none-any.whl (163 kB)\n",
      "\u001b[2K     \u001b[90m━━━━━━━━━━━━━━━━━━━━━━━━━━━━━━━━━━━━━━━\u001b[0m \u001b[32m163.5/163.5 kB\u001b[0m \u001b[31m5.4 MB/s\u001b[0m eta \u001b[36m0:00:00\u001b[0m\n",
      "\u001b[?25hRequirement already satisfied: packaging>=20.0 in /opt/conda/lib/python3.10/site-packages (from transformers) (21.3)\n",
      "Collecting tokenizers!=0.11.3,<0.14,>=0.11.1\n",
      "  Downloading tokenizers-0.13.1-cp310-cp310-manylinux_2_17_x86_64.manylinux2014_x86_64.whl (7.6 MB)\n",
      "\u001b[2K     \u001b[90m━━━━━━━━━━━━━━━━━━━━━━━━━━━━━━━━━━━━━━━━\u001b[0m \u001b[32m7.6/7.6 MB\u001b[0m \u001b[31m2.7 MB/s\u001b[0m eta \u001b[36m0:00:00\u001b[0m00:01\u001b[0m00:01\u001b[0m\n",
      "\u001b[?25hRequirement already satisfied: numpy>=1.17 in /opt/conda/lib/python3.10/site-packages (from transformers) (1.22.4)\n",
      "Requirement already satisfied: requests in /opt/conda/lib/python3.10/site-packages (from transformers) (2.28.1)\n",
      "Requirement already satisfied: typing-extensions in /opt/conda/lib/python3.10/site-packages (from torch) (4.3.0)\n",
      "Requirement already satisfied: pyparsing!=3.0.5,>=2.0.2 in /opt/conda/lib/python3.10/site-packages (from packaging>=20.0->transformers) (3.0.9)\n",
      "Requirement already satisfied: idna<4,>=2.5 in /opt/conda/lib/python3.10/site-packages (from requests->transformers) (3.3)\n",
      "Requirement already satisfied: charset-normalizer<3,>=2 in /opt/conda/lib/python3.10/site-packages (from requests->transformers) (2.1.0)\n",
      "Requirement already satisfied: certifi>=2017.4.17 in /opt/conda/lib/python3.10/site-packages (from requests->transformers) (2022.6.15)\n",
      "Requirement already satisfied: urllib3<1.27,>=1.21.1 in /opt/conda/lib/python3.10/site-packages (from requests->transformers) (1.26.11)\n",
      "Installing collected packages: tokenizers, torch, regex, filelock, huggingface-hub, transformers\n",
      "Successfully installed filelock-3.8.0 huggingface-hub-0.10.1 regex-2022.9.13 tokenizers-0.13.1 torch-1.12.1 transformers-4.23.1\n",
      "Collecting sentencepiece\n",
      "  Downloading sentencepiece-0.1.97-cp310-cp310-manylinux_2_17_x86_64.manylinux2014_x86_64.whl (1.3 MB)\n",
      "\u001b[2K     \u001b[90m━━━━━━━━━━━━━━━━━━━━━━━━━━━━━━━━━━━━━━━━\u001b[0m \u001b[32m1.3/1.3 MB\u001b[0m \u001b[31m4.6 MB/s\u001b[0m eta \u001b[36m0:00:00\u001b[0m00:01\u001b[0m00:01\u001b[0m\n",
      "\u001b[?25hInstalling collected packages: sentencepiece\n",
      "Successfully installed sentencepiece-0.1.97\n"
     ]
    }
   ],
   "source": [
    "!pip install transformers torch\n",
    "!pip install sentencepiece"
   ]
  },
  {
   "cell_type": "markdown",
   "id": "d395e9eb-6ddb-4c6e-a492-b9399b63dc08",
   "metadata": {},
   "source": [
    "### read stored data from DataPlatform"
   ]
  },
  {
   "cell_type": "code",
   "execution_count": 4,
   "id": "fca0f4c3-5b5a-4515-b714-c5dd12c622e3",
   "metadata": {},
   "outputs": [],
   "source": [
    "from dsmlibrary.datanode import DataNode\n",
    "import json\n",
    "from tqdm.auto import tqdm\n",
    "import pandas as pd"
   ]
  },
  {
   "cell_type": "code",
   "execution_count": 5,
   "id": "c882c18e-5ae9-4a38-bcfc-ea730be0986b",
   "metadata": {},
   "outputs": [],
   "source": [
    "dir_raw_id = 106\n",
    "dir_process_id = 107"
   ]
  },
  {
   "cell_type": "code",
   "execution_count": 6,
   "id": "727cf12f-b64b-48ea-a304-07be454a5143",
   "metadata": {},
   "outputs": [
    {
     "name": "stdout",
     "output_type": "stream",
     "text": [
      "Init DataNode sucessful!\n"
     ]
    }
   ],
   "source": [
    "datanode = DataNode()"
   ]
  },
  {
   "cell_type": "code",
   "execution_count": 7,
   "id": "a36adc7d-df3e-4e6e-9817-a96efa197382",
   "metadata": {},
   "outputs": [
    {
     "data": {
      "text/plain": [
       "{'owner': 'sutthichet',\n",
       " 'human_size': '3.53 KB',\n",
       " 'name': 'data.json',\n",
       " 'description': 'file data.json',\n",
       " 'directory': 106,\n",
       " 'path': 'sutthichet/DSI310-01/rawData/data.json'}"
      ]
     },
     "execution_count": 7,
     "metadata": {},
     "output_type": "execute_result"
    }
   ],
   "source": [
    "meta, fp = datanode.get_file(datanode.get_file_id(directory_id=dir_raw_id, name='data.json'))\n",
    "meta"
   ]
  },
  {
   "cell_type": "code",
   "execution_count": 8,
   "id": "2df0dc68-08ca-4c88-af38-3f996c0c5062",
   "metadata": {
    "tags": []
   },
   "outputs": [
    {
     "data": {
      "text/plain": [
       "[{'period': '31/08/2022', 'inflation_mom': 0.21, 'inflation_yoy': 4.69},\n",
       " {'period': '31/07/2022', 'inflation_mom': 0.64, 'inflation_yoy': 4.94},\n",
       " {'period': '30/06/2022', 'inflation_mom': 0.61, 'inflation_yoy': 4.35},\n",
       " {'period': '31/05/2022', 'inflation_mom': 0.4, 'inflation_yoy': 3.55},\n",
       " {'period': '30/04/2022', 'inflation_mom': 0.95, 'inflation_yoy': 3.47},\n",
       " {'period': '31/03/2022', 'inflation_mom': 0.66, 'inflation_yoy': 2.64},\n",
       " {'period': '28/02/2022', 'inflation_mom': 0.54, 'inflation_yoy': 2.06},\n",
       " {'period': '31/01/2022', 'inflation_mom': 0.56, 'inflation_yoy': 2.18},\n",
       " {'period': '31/12/2021', 'inflation_mom': 0.57, 'inflation_yoy': 1.87},\n",
       " {'period': '30/11/2021', 'inflation_mom': 0.37, 'inflation_yoy': 1.75},\n",
       " {'period': '31/10/2021', 'inflation_mom': 0.12, 'inflation_yoy': 1.66},\n",
       " {'period': '30/09/2021', 'inflation_mom': 0.04, 'inflation_yoy': 1.6},\n",
       " {'period': '31/08/2021', 'inflation_mom': 0.03, 'inflation_yoy': 1.59},\n",
       " {'period': '31/07/2021', 'inflation_mom': 0.08, 'inflation_yoy': 1.52},\n",
       " {'period': '30/06/2021', 'inflation_mom': 0.16, 'inflation_yoy': 1.33},\n",
       " {'period': '31/05/2021', 'inflation_mom': 0.32, 'inflation_yoy': 1.68},\n",
       " {'period': '30/04/2021', 'inflation_mom': 0.13, 'inflation_yoy': 1.42},\n",
       " {'period': '31/03/2021', 'inflation_mom': 0.08, 'inflation_yoy': 1.37},\n",
       " {'period': '28/02/2021', 'inflation_mom': 0.1, 'inflation_yoy': 1.38},\n",
       " {'period': '31/01/2021', 'inflation_mom': 0.26, 'inflation_yoy': 1.55},\n",
       " {'period': '31/12/2020', 'inflation_mom': 0.45, 'inflation_yoy': 1.68},\n",
       " {'period': '30/11/2020', 'inflation_mom': 0.28, 'inflation_yoy': 1.59},\n",
       " {'period': '31/10/2020', 'inflation_mom': 0.07, 'inflation_yoy': 1.44},\n",
       " {'period': '30/09/2020', 'inflation_mom': 0.05, 'inflation_yoy': 1.42},\n",
       " {'period': '31/08/2020', 'inflation_mom': 0.05, 'inflation_yoy': 1.32},\n",
       " {'period': '31/07/2020', 'inflation_mom': 0.04, 'inflation_yoy': 1.54},\n",
       " {'period': '30/06/2020', 'inflation_mom': 0.18, 'inflation_yoy': 1.96},\n",
       " {'period': '31/05/2020', 'inflation_mom': 0.07, 'inflation_yoy': 2.19},\n",
       " {'period': '30/04/2020', 'inflation_mom': 0.08, 'inflation_yoy': 2.67},\n",
       " {'period': '31/03/2020', 'inflation_mom': 0.1, 'inflation_yoy': 2.96},\n",
       " {'period': '28/02/2020', 'inflation_mom': 0.28, 'inflation_yoy': 2.98},\n",
       " {'period': '31/01/2020', 'inflation_mom': 0.39, 'inflation_yoy': 2.68},\n",
       " {'period': '31/12/2019', 'inflation_mom': 0.34, 'inflation_yoy': 2.27},\n",
       " {'period': '30/11/2019', 'inflation_mom': 0.14, 'inflation_yoy': 3.0},\n",
       " {'period': '31/10/2019', 'inflation_mom': 0.02, 'inflation_yoy': 2.22},\n",
       " {'period': '30/09/2019', 'inflation_mom': -0.27, 'inflation_yoy': 3.39},\n",
       " {'period': '31/08/2019', 'inflation_mom': 0.12, 'inflation_yoy': 3.49},\n",
       " {'period': '31/07/2019', 'inflation_mom': 0.31, 'inflation_yoy': 3.32},\n",
       " {'period': '30/06/2019', 'inflation_mom': 0.55, 'inflation_yoy': 3.28},\n",
       " {'period': '31/05/2019', 'inflation_mom': 0.68, 'inflation_yoy': 3.32},\n",
       " {'period': '30/04/2019', 'inflation_mom': 0.44, 'inflation_yoy': 2.83},\n",
       " {'period': '31/03/2019', 'inflation_mom': 0.11, 'inflation_yoy': 2.48},\n",
       " {'period': '28/02/2019', 'inflation_mom': -0.08, 'inflation_yoy': 2.57},\n",
       " {'period': '31/01/2019', 'inflation_mom': 0.32, 'inflation_yoy': 2.82},\n",
       " {'period': '31/12/2018', 'inflation_mom': 0.62, 'inflation_yoy': 3.13},\n",
       " {'period': '30/11/2018', 'inflation_mom': 0.27, 'inflation_yoy': 3.23},\n",
       " {'period': '31/10/2018', 'inflation_mom': 0.28, 'inflation_yoy': 3.16},\n",
       " {'period': '30/09/2018', 'inflation_mom': -0.18, 'inflation_yoy': 2.88},\n",
       " {'period': '31/08/2018', 'inflation_mom': -0.05, 'inflation_yoy': 3.2}]"
      ]
     },
     "execution_count": 8,
     "metadata": {},
     "output_type": "execute_result"
    }
   ],
   "source": [
    "data = json.load(fp)\n",
    "data"
   ]
  },
  {
   "cell_type": "code",
   "execution_count": 9,
   "id": "dd1f07e2-9829-46d0-902c-ca85aa00fdef",
   "metadata": {},
   "outputs": [],
   "source": [
    "df2 = pd.json_normalize(data)"
   ]
  },
  {
   "cell_type": "code",
   "execution_count": 10,
   "id": "85df9b84-bee1-4966-9f19-8bbd5fb6505a",
   "metadata": {},
   "outputs": [],
   "source": [
    "df = pd.DataFrame(df2)"
   ]
  },
  {
   "cell_type": "code",
   "execution_count": null,
   "id": "aa4483d2-f2c5-433a-bf9e-7727e05c618c",
   "metadata": {},
   "outputs": [],
   "source": []
  },
  {
   "cell_type": "markdown",
   "id": "29ea489b-00b1-474a-a4b9-7dac580410bb",
   "metadata": {},
   "source": [
    "### write DataNode to DataPlatform"
   ]
  },
  {
   "cell_type": "code",
   "execution_count": 11,
   "id": "b8c7855f-acef-4074-9cf8-6562a2a55682",
   "metadata": {},
   "outputs": [
    {
     "data": {
      "text/plain": [
       "{'sucess': True,\n",
       " 'file_id': 217,\n",
       " 'path': 'sutthichet/DSI310-01/processData/data.parquet',\n",
       " 'lineage': True}"
      ]
     },
     "execution_count": 11,
     "metadata": {},
     "output_type": "execute_result"
    }
   ],
   "source": [
    "datanode.write(df=df2, directory=dir_process_id, name=\"data\", profiling=True, lineage=[datanode.get_file_id(directory_id=dir_raw_id, name='data.json')])"
   ]
  },
  {
   "cell_type": "code",
   "execution_count": null,
   "id": "d24a8cb6-daf4-4954-96d6-d505ab4ddc8f",
   "metadata": {},
   "outputs": [],
   "source": []
  }
 ],
 "metadata": {
  "kernelspec": {
   "display_name": "Python 3 (ipykernel)",
   "language": "python",
   "name": "python3"
  },
  "language_info": {
   "codemirror_mode": {
    "name": "ipython",
    "version": 3
   },
   "file_extension": ".py",
   "mimetype": "text/x-python",
   "name": "python",
   "nbconvert_exporter": "python",
   "pygments_lexer": "ipython3",
   "version": "3.10.5"
  }
 },
 "nbformat": 4,
 "nbformat_minor": 5
}
